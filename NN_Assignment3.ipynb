{
  "nbformat": 4,
  "nbformat_minor": 0,
  "metadata": {
    "colab": {
      "provenance": []
    },
    "kernelspec": {
      "name": "python3",
      "display_name": "Python 3"
    },
    "language_info": {
      "name": "python"
    }
  },
  "cells": [
    {
      "cell_type": "code",
      "execution_count": null,
      "metadata": {
        "colab": {
          "base_uri": "https://localhost:8080/"
        },
        "id": "WBTznYdpFiEN",
        "outputId": "b2ed0e50-2d42-4ec4-f88c-a9b8cc2127ca"
      },
      "outputs": [
        {
          "output_type": "stream",
          "name": "stdout",
          "text": [
            "avg: 3500.0\n",
            "Name :  Vinay kumar reddy Family:  Gunuguntla Salary:  5000 department: Back-end\n",
            "Total Employee 3\n"
          ]
        },
        {
          "output_type": "execute_result",
          "data": {
            "text/plain": [
              "('Amazon', None, None)"
            ]
          },
          "metadata": {},
          "execution_count": 6
        }
      ],
      "source": [
        "\"\"\" Create a class Employee and then do the following\n",
        "• Create a data member to count the number of Employees\n",
        "• Create a constructor to initialize name, family, salary, department\n",
        "• Create a function to average salary\n",
        "• Create a Fulltime Employee class and it should inherit the properties of Employee class\n",
        "• Create the instances of Fulltime Employee class and Employee class and call their member functions.\"\"\"\n",
        "\n",
        "class Employee:#Employee class\n",
        "    empCount=0 ##employeeConut is used to keep track of numner of employee objects\n",
        "    salSum=0 #salSum is used to take the average of the salaries of the Employee object\n",
        "    def __init__(self,name,family,salary,department): #constructor for Employee as per the reuirements\n",
        "        self.name = name\n",
        "        self.family = family\n",
        "        self.salary = salary\n",
        "        self.department = department\n",
        "        Employee.empCount += 1\n",
        "        Employee.salSum+=self.salary\n",
        "    def avg(self):\n",
        "        return Employee.salSum/Employee.empCount\n",
        "    def displayCount(self): #One of the functions in Employee class\n",
        "        print (\"Total Employee %d\" % Employee.empCount)\n",
        "    def displayEmployee(self):#another function for employee class\n",
        "        print(\"Name : \", self.name, \"Family: \", self.family , \"Salary: \", self.salary, \"department:\",self.department)\n",
        "emp1 = Employee(\"Uday\",\"Gurrapu\",2000,\"software\")#Employee objects creation with intialization\n",
        "emp2 = Employee(\"Shanmukh\",\"Vuyyuri\",5000,\"fatbee\")\n",
        "print(\"avg:\",emp2.avg())#calling average function\n",
        "class FulltimeEmployee(Employee):#FulltimeEmployee class with Employee as its parent class\n",
        "    def __init__(self,name,family,salary,department,c_name):#constructor for FulltimeEmployee\n",
        "        super().__init__(name,family,salary,department)\n",
        "        self.c_name=c_name\n",
        "    def setCompany(self,c_name):#one of the FulltimeEmployee class function\n",
        "        self.c_name=c_name\n",
        "    def getCompany(self):\n",
        "        if self.c_name not in self.c_name:\n",
        "            return \"\"\n",
        "        return self.c_name\n",
        "adi=FulltimeEmployee(\"Vinay kumar reddy\",\"Gunuguntla\",5000,\"Back-end\",\"Microsoft\")#FulltimeEmployee object\n",
        "adi.setCompany(\"Amazon\")#calling the member functions of FulltimeEmploye and Employee\n",
        "adi.getCompany(),adi.displayEmployee(),emp1.displayCount()"
      ]
    },
    {
      "cell_type": "code",
      "source": [
        "\"\"\"Numpy  Using NumPy create random vector of size 20 having only float in the range 1-20.\n",
        "Then reshape the array to 4 by 5\n",
        "Then replace the max in each row by 0 (axis=1)\n",
        "(you can NOT implement it via for loop) \"\"\"\n",
        "import numpy as np #importing numpy library\n",
        "vec=np.arange(1,21,dtype=float) #creating a numpy vector with arange function\n",
        "print(vec)\n",
        "vec=vec.reshape(4,5)#reshaping the vector with reshape() function\n",
        "print(vec)\n",
        "vec=np.where(np.isin(vec,vec.max(axis=1)),0,vec)#finding the max values in row and replacing them with zero using np.where() and np.max() function\n",
        "vec"
      ],
      "metadata": {
        "colab": {
          "base_uri": "https://localhost:8080/"
        },
        "id": "JTGXIk-wHCOA",
        "outputId": "e582f263-1720-49e1-de5e-bfd686b881f4"
      },
      "execution_count": null,
      "outputs": [
        {
          "output_type": "stream",
          "name": "stdout",
          "text": [
            "[ 1.  2.  3.  4.  5.  6.  7.  8.  9. 10. 11. 12. 13. 14. 15. 16. 17. 18.\n",
            " 19. 20.]\n",
            "[[ 1.  2.  3.  4.  5.]\n",
            " [ 6.  7.  8.  9. 10.]\n",
            " [11. 12. 13. 14. 15.]\n",
            " [16. 17. 18. 19. 20.]]\n"
          ]
        },
        {
          "output_type": "execute_result",
          "data": {
            "text/plain": [
              "array([[ 1.,  2.,  3.,  4.,  0.],\n",
              "       [ 6.,  7.,  8.,  9.,  0.],\n",
              "       [11., 12., 13., 14.,  0.],\n",
              "       [16., 17., 18., 19.,  0.]])"
            ]
          },
          "metadata": {},
          "execution_count": 5
        }
      ]
    }
  ]
}